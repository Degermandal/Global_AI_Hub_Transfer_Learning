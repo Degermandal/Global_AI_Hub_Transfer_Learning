{
  "nbformat": 4,
  "nbformat_minor": 0,
  "metadata": {
    "colab": {
      "name": "Transfer_Learning_1.ipynb",
      "provenance": [],
      "collapsed_sections": []
    },
    "kernelspec": {
      "name": "python3",
      "display_name": "Python 3"
    },
    "language_info": {
      "name": "python"
    }
  },
  "cells": [
    {
      "cell_type": "markdown",
      "source": [
        "# **GLOBAL AI HUB**\n",
        "### **Project 2: Transfer Learning**"
      ],
      "metadata": {
        "id": "dNaF7KQY-bit"
      }
    },
    {
      "cell_type": "code",
      "execution_count": 22,
      "metadata": {
        "colab": {
          "base_uri": "https://localhost:8080/"
        },
        "id": "9UKPKcPaip7t",
        "outputId": "c7a1f44b-18d2-467d-b723-9d2dc5758323"
      },
      "outputs": [
        {
          "output_type": "stream",
          "name": "stdout",
          "text": [
            "Drive already mounted at /gdrive; to attempt to forcibly remount, call drive.mount(\"/gdrive\", force_remount=True).\n",
            "/gdrive\n"
          ]
        }
      ],
      "source": [
        "from google.colab import drive\n",
        "drive.mount('/gdrive')\n",
        "%cd /gdrive"
      ]
    },
    {
      "cell_type": "code",
      "source": [
        "%cd '/gdrive/My Drive/Global_AI_Hub'"
      ],
      "metadata": {
        "id": "pPbdFvv4jXam",
        "colab": {
          "base_uri": "https://localhost:8080/"
        },
        "outputId": "74d5be25-d88b-4ca5-eb50-9ca8ce25f8b3"
      },
      "execution_count": 24,
      "outputs": [
        {
          "output_type": "stream",
          "name": "stdout",
          "text": [
            "/gdrive/My Drive/Global_AI_Hub\n"
          ]
        }
      ]
    },
    {
      "cell_type": "markdown",
      "source": [
        "### Import Modules"
      ],
      "metadata": {
        "id": "yDvJyUKFoQ9Q"
      }
    },
    {
      "cell_type": "code",
      "source": [
        "import pandas as pd\n",
        "import numpy as np\n",
        "import seaborn as sns\n",
        "import matplotlib.pyplot as plt\n",
        "import warnings\n",
        "warnings.filterwarnings('ignore')\n",
        "import os\n",
        "import random\n",
        "import PIL\n",
        "import cv2"
      ],
      "metadata": {
        "id": "aOiQIo4fi7bK"
      },
      "execution_count": 25,
      "outputs": []
    },
    {
      "cell_type": "markdown",
      "source": [
        "#### We normalize and resize the images"
      ],
      "metadata": {
        "id": "LMFHalOJ-1d6"
      }
    },
    {
      "cell_type": "code",
      "source": [
        "# one (1) for dogs and zero (0) for cats\n",
        "input_img = []\n",
        "label = []\n",
        "for class_name in os.listdir(\"PetImages\"):\n",
        "    for path in os.listdir(\"PetImages/\"+class_name):\n",
        "        pth = os.path.join(\"PetImages\", class_name, path)\n",
        "        img=cv2.imread(pth)\n",
        "        # Normalize\n",
        "        image_norm = cv2.normalize(img, None, alpha=0,beta=200, norm_type=cv2.NORM_MINMAX)\n",
        "        try: \n",
        "          # 48x48 yapılmasının nedeni VGG19 modelinin kullanılacak olmasıdır\n",
        "          img = cv2.resize(image_norm, (48, 48))\n",
        "          input_img.append(img)\n",
        "          if class_name == 'Cat':\n",
        "            label.append(0)\n",
        "          else:\n",
        "            label.append(1)\n",
        "        except:\n",
        "          #print('error')\n",
        "          continue\n",
        "print(input_img[0], label[0])"
      ],
      "metadata": {
        "id": "EHOwMYuki7YY",
        "colab": {
          "base_uri": "https://localhost:8080/"
        },
        "outputId": "d7605dbf-e33f-4632-d31b-0e54f3bc93cc"
      },
      "execution_count": 26,
      "outputs": [
        {
          "output_type": "stream",
          "name": "stdout",
          "text": [
            "[[[ 52  72  59]\n",
            "  [ 56  76  63]\n",
            "  [ 53  66  65]\n",
            "  ...\n",
            "  [ 51  56 101]\n",
            "  [ 44  59  69]\n",
            "  [ 28  40  54]]\n",
            "\n",
            " [[ 78  94 122]\n",
            "  [ 64  80 108]\n",
            "  [ 53  64  81]\n",
            "  ...\n",
            "  [ 59  69  84]\n",
            "  [ 49  62  66]\n",
            "  [ 48  66  62]]\n",
            "\n",
            " [[ 51  59 101]\n",
            "  [ 66  72 120]\n",
            "  [ 54  64 110]\n",
            "  ...\n",
            "  [ 37  52  55]\n",
            "  [ 41  56  56]\n",
            "  [ 43  57  51]]\n",
            "\n",
            " ...\n",
            "\n",
            " [[ 57  68  63]\n",
            "  [ 58  76  64]\n",
            "  [ 36  50  56]\n",
            "  ...\n",
            "  [ 43  62  57]\n",
            "  [ 44  62  63]\n",
            "  [ 22  40  87]]\n",
            "\n",
            " [[ 65  73  71]\n",
            "  [ 32  45  42]\n",
            "  [ 51  59  96]\n",
            "  ...\n",
            "  [ 55  77  74]\n",
            "  [ 54  66 114]\n",
            "  [ 48  62 120]]\n",
            "\n",
            " [[ 51  66 101]\n",
            "  [ 63  77  75]\n",
            "  [ 34  44  48]\n",
            "  ...\n",
            "  [ 49  59  75]\n",
            "  [ 90  99 125]\n",
            "  [ 52  80 149]]] 1\n"
          ]
        }
      ]
    },
    {
      "cell_type": "code",
      "source": [
        "# We create a list that is [image, label] format, and then add each image to that list together with their labels.\n",
        "data = []\n",
        "l = len(input_img)\n",
        "print(l)\n",
        "for i in range(l):\n",
        "  data.append([input_img[i], label[i]])\n",
        "print(len(data))"
      ],
      "metadata": {
        "colab": {
          "base_uri": "https://localhost:8080/"
        },
        "id": "BcOiy_7KMTXk",
        "outputId": "8e5e9b0e-5d47-4475-b2ca-704085375eb2"
      },
      "execution_count": 27,
      "outputs": [
        {
          "output_type": "stream",
          "name": "stdout",
          "text": [
            "24965\n",
            "24965\n"
          ]
        }
      ]
    },
    {
      "cell_type": "code",
      "source": [
        "# Sadece görselleştirme için dataframe oluşturulmuştur.\n",
        "df = pd.DataFrame()\n",
        "df['images'] = input_img\n",
        "df['label'] = label\n",
        "df = df.sample(frac=1).reset_index(drop=True)\n",
        "df.head()"
      ],
      "metadata": {
        "id": "8nWdjTfBi7Vm",
        "colab": {
          "base_uri": "https://localhost:8080/",
          "height": 206
        },
        "outputId": "2f613420-7d17-484e-bcb5-d5515cbc6c8c"
      },
      "execution_count": 29,
      "outputs": [
        {
          "output_type": "execute_result",
          "data": {
            "text/plain": [
              "                                              images  label\n",
              "0  [[[68, 90, 114], [22, 28, 33], [48, 64, 87], [...      0\n",
              "1  [[[82, 79, 78], [87, 84, 83], [85, 83, 82], [8...      0\n",
              "2  [[[61, 61, 61], [64, 64, 64], [64, 64, 64], [7...      0\n",
              "3  [[[122, 49, 182], [104, 38, 166], [91, 39, 170...      1\n",
              "4  [[[198, 184, 163], [197, 180, 160], [199, 199,...      0"
            ],
            "text/html": [
              "\n",
              "  <div id=\"df-5dbb1703-eb86-4f72-a2f8-4c7d46ad61f2\">\n",
              "    <div class=\"colab-df-container\">\n",
              "      <div>\n",
              "<style scoped>\n",
              "    .dataframe tbody tr th:only-of-type {\n",
              "        vertical-align: middle;\n",
              "    }\n",
              "\n",
              "    .dataframe tbody tr th {\n",
              "        vertical-align: top;\n",
              "    }\n",
              "\n",
              "    .dataframe thead th {\n",
              "        text-align: right;\n",
              "    }\n",
              "</style>\n",
              "<table border=\"1\" class=\"dataframe\">\n",
              "  <thead>\n",
              "    <tr style=\"text-align: right;\">\n",
              "      <th></th>\n",
              "      <th>images</th>\n",
              "      <th>label</th>\n",
              "    </tr>\n",
              "  </thead>\n",
              "  <tbody>\n",
              "    <tr>\n",
              "      <th>0</th>\n",
              "      <td>[[[68, 90, 114], [22, 28, 33], [48, 64, 87], [...</td>\n",
              "      <td>0</td>\n",
              "    </tr>\n",
              "    <tr>\n",
              "      <th>1</th>\n",
              "      <td>[[[82, 79, 78], [87, 84, 83], [85, 83, 82], [8...</td>\n",
              "      <td>0</td>\n",
              "    </tr>\n",
              "    <tr>\n",
              "      <th>2</th>\n",
              "      <td>[[[61, 61, 61], [64, 64, 64], [64, 64, 64], [7...</td>\n",
              "      <td>0</td>\n",
              "    </tr>\n",
              "    <tr>\n",
              "      <th>3</th>\n",
              "      <td>[[[122, 49, 182], [104, 38, 166], [91, 39, 170...</td>\n",
              "      <td>1</td>\n",
              "    </tr>\n",
              "    <tr>\n",
              "      <th>4</th>\n",
              "      <td>[[[198, 184, 163], [197, 180, 160], [199, 199,...</td>\n",
              "      <td>0</td>\n",
              "    </tr>\n",
              "  </tbody>\n",
              "</table>\n",
              "</div>\n",
              "      <button class=\"colab-df-convert\" onclick=\"convertToInteractive('df-5dbb1703-eb86-4f72-a2f8-4c7d46ad61f2')\"\n",
              "              title=\"Convert this dataframe to an interactive table.\"\n",
              "              style=\"display:none;\">\n",
              "        \n",
              "  <svg xmlns=\"http://www.w3.org/2000/svg\" height=\"24px\"viewBox=\"0 0 24 24\"\n",
              "       width=\"24px\">\n",
              "    <path d=\"M0 0h24v24H0V0z\" fill=\"none\"/>\n",
              "    <path d=\"M18.56 5.44l.94 2.06.94-2.06 2.06-.94-2.06-.94-.94-2.06-.94 2.06-2.06.94zm-11 1L8.5 8.5l.94-2.06 2.06-.94-2.06-.94L8.5 2.5l-.94 2.06-2.06.94zm10 10l.94 2.06.94-2.06 2.06-.94-2.06-.94-.94-2.06-.94 2.06-2.06.94z\"/><path d=\"M17.41 7.96l-1.37-1.37c-.4-.4-.92-.59-1.43-.59-.52 0-1.04.2-1.43.59L10.3 9.45l-7.72 7.72c-.78.78-.78 2.05 0 2.83L4 21.41c.39.39.9.59 1.41.59.51 0 1.02-.2 1.41-.59l7.78-7.78 2.81-2.81c.8-.78.8-2.07 0-2.86zM5.41 20L4 18.59l7.72-7.72 1.47 1.35L5.41 20z\"/>\n",
              "  </svg>\n",
              "      </button>\n",
              "      \n",
              "  <style>\n",
              "    .colab-df-container {\n",
              "      display:flex;\n",
              "      flex-wrap:wrap;\n",
              "      gap: 12px;\n",
              "    }\n",
              "\n",
              "    .colab-df-convert {\n",
              "      background-color: #E8F0FE;\n",
              "      border: none;\n",
              "      border-radius: 50%;\n",
              "      cursor: pointer;\n",
              "      display: none;\n",
              "      fill: #1967D2;\n",
              "      height: 32px;\n",
              "      padding: 0 0 0 0;\n",
              "      width: 32px;\n",
              "    }\n",
              "\n",
              "    .colab-df-convert:hover {\n",
              "      background-color: #E2EBFA;\n",
              "      box-shadow: 0px 1px 2px rgba(60, 64, 67, 0.3), 0px 1px 3px 1px rgba(60, 64, 67, 0.15);\n",
              "      fill: #174EA6;\n",
              "    }\n",
              "\n",
              "    [theme=dark] .colab-df-convert {\n",
              "      background-color: #3B4455;\n",
              "      fill: #D2E3FC;\n",
              "    }\n",
              "\n",
              "    [theme=dark] .colab-df-convert:hover {\n",
              "      background-color: #434B5C;\n",
              "      box-shadow: 0px 1px 3px 1px rgba(0, 0, 0, 0.15);\n",
              "      filter: drop-shadow(0px 1px 2px rgba(0, 0, 0, 0.3));\n",
              "      fill: #FFFFFF;\n",
              "    }\n",
              "  </style>\n",
              "\n",
              "      <script>\n",
              "        const buttonEl =\n",
              "          document.querySelector('#df-5dbb1703-eb86-4f72-a2f8-4c7d46ad61f2 button.colab-df-convert');\n",
              "        buttonEl.style.display =\n",
              "          google.colab.kernel.accessAllowed ? 'block' : 'none';\n",
              "\n",
              "        async function convertToInteractive(key) {\n",
              "          const element = document.querySelector('#df-5dbb1703-eb86-4f72-a2f8-4c7d46ad61f2');\n",
              "          const dataTable =\n",
              "            await google.colab.kernel.invokeFunction('convertToInteractive',\n",
              "                                                     [key], {});\n",
              "          if (!dataTable) return;\n",
              "\n",
              "          const docLinkHtml = 'Like what you see? Visit the ' +\n",
              "            '<a target=\"_blank\" href=https://colab.research.google.com/notebooks/data_table.ipynb>data table notebook</a>'\n",
              "            + ' to learn more about interactive tables.';\n",
              "          element.innerHTML = '';\n",
              "          dataTable['output_type'] = 'display_data';\n",
              "          await google.colab.output.renderOutput(dataTable, element);\n",
              "          const docLink = document.createElement('div');\n",
              "          docLink.innerHTML = docLinkHtml;\n",
              "          element.appendChild(docLink);\n",
              "        }\n",
              "      </script>\n",
              "    </div>\n",
              "  </div>\n",
              "  "
            ]
          },
          "metadata": {},
          "execution_count": 29
        }
      ]
    },
    {
      "cell_type": "code",
      "source": [
        "# (24965,) görsel sayısıdır, (48, 48, 3) ise 48x48 shapeinde ve rgb channelda olduğunu ifade etmektedir.\n",
        "df['images'].shape, df['images'][0].shape"
      ],
      "metadata": {
        "colab": {
          "base_uri": "https://localhost:8080/"
        },
        "id": "pYqwuzZjq1A5",
        "outputId": "739b6164-9ced-4ddb-f1a5-4a5f9b06d56f"
      },
      "execution_count": 30,
      "outputs": [
        {
          "output_type": "execute_result",
          "data": {
            "text/plain": [
              "((24965,), (48, 48, 3))"
            ]
          },
          "metadata": {},
          "execution_count": 30
        }
      ]
    },
    {
      "cell_type": "markdown",
      "source": [
        "### Exploratory Data Analysis"
      ],
      "metadata": {
        "id": "Ni9c8Go5oLhq"
      }
    },
    {
      "cell_type": "code",
      "source": [
        "# Since the amount of both inputs is much the same, we can make predictions well. So we can use Accuracy metric.\n",
        "sns.countplot(df['label'])"
      ],
      "metadata": {
        "id": "M9AVfYuaofuV",
        "colab": {
          "base_uri": "https://localhost:8080/",
          "height": 297
        },
        "outputId": "250a28f2-00ef-4d34-9692-e5da1879a7f8"
      },
      "execution_count": 31,
      "outputs": [
        {
          "output_type": "execute_result",
          "data": {
            "text/plain": [
              "<matplotlib.axes._subplots.AxesSubplot at 0x7efe0c227b90>"
            ]
          },
          "metadata": {},
          "execution_count": 31
        },
        {
          "output_type": "display_data",
          "data": {
            "text/plain": [
              "<Figure size 432x288 with 1 Axes>"
            ],
            "image/png": "[encoded data removed]"
          },
          "metadata": {
            "needs_background": "light"
          }
        }
      ]
    },
    {
      "cell_type": "code",
      "source": [
        "data[0], data[0][1]"
      ],
      "metadata": {
        "colab": {
          "base_uri": "https://localhost:8080/"
        },
        "id": "qlPLH0b9V7ve",
        "outputId": "70cc1401-9cf0-4b80-b1fa-36aa4c2776bc"
      },
      "execution_count": 32,
      "outputs": [
        {
          "output_type": "execute_result",
          "data": {
            "text/plain": [
              "([array([[[ 52,  72,  59],\n",
              "          [ 56,  76,  63],\n",
              "          [ 53,  66,  65],\n",
              "          ...,\n",
              "          [ 51,  56, 101],\n",
              "          [ 44,  59,  69],\n",
              "          [ 28,  40,  54]],\n",
              "  \n",
              "         [[ 78,  94, 122],\n",
              "          [ 64,  80, 108],\n",
              "          [ 53,  64,  81],\n",
              "          ...,\n",
              "          [ 59,  69,  84],\n",
              "          [ 49,  62,  66],\n",
              "          [ 48,  66,  62]],\n",
              "  \n",
              "         [[ 51,  59, 101],\n",
              "          [ 66,  72, 120],\n",
              "          [ 54,  64, 110],\n",
              "          ...,\n",
              "          [ 37,  52,  55],\n",
              "          [ 41,  56,  56],\n",
              "          [ 43,  57,  51]],\n",
              "  \n",
              "         ...,\n",
              "  \n",
              "         [[ 57,  68,  63],\n",
              "          [ 58,  76,  64],\n",
              "          [ 36,  50,  56],\n",
              "          ...,\n",
              "          [ 43,  62,  57],\n",
              "          [ 44,  62,  63],\n",
              "          [ 22,  40,  87]],\n",
              "  \n",
              "         [[ 65,  73,  71],\n",
              "          [ 32,  45,  42],\n",
              "          [ 51,  59,  96],\n",
              "          ...,\n",
              "          [ 55,  77,  74],\n",
              "          [ 54,  66, 114],\n",
              "          [ 48,  62, 120]],\n",
              "  \n",
              "         [[ 51,  66, 101],\n",
              "          [ 63,  77,  75],\n",
              "          [ 34,  44,  48],\n",
              "          ...,\n",
              "          [ 49,  59,  75],\n",
              "          [ 90,  99, 125],\n",
              "          [ 52,  80, 149]]], dtype=uint8), 1], 1)"
            ]
          },
          "metadata": {},
          "execution_count": 32
        }
      ]
    },
    {
      "cell_type": "code",
      "source": [
        "import random\n",
        "# Verileri karıştıralım\n",
        "random.shuffle(data)"
      ],
      "metadata": {
        "id": "CGvGFNDTofl3"
      },
      "execution_count": 33,
      "outputs": []
    },
    {
      "cell_type": "code",
      "source": [
        "X = []\n",
        "y = []\n",
        "for features, label in data:\n",
        "    X.append(features)\n",
        "    y.append(label)"
      ],
      "metadata": {
        "id": "qyPWQzOJofi6"
      },
      "execution_count": 34,
      "outputs": []
    },
    {
      "cell_type": "code",
      "source": [
        "from sklearn.model_selection import train_test_split"
      ],
      "metadata": {
        "id": "bVm9ZlqnWTfL"
      },
      "execution_count": 35,
      "outputs": []
    },
    {
      "cell_type": "code",
      "source": [
        "X_train, X_test, y_train, y_test = train_test_split(X, y, test_size=0.2, random_state=1)\n",
        "X_train, X_val, y_train, y_val = train_test_split(X_train, y_train, test_size=0.25, random_state=1) "
      ],
      "metadata": {
        "id": "SHRZqSjPVyfr"
      },
      "execution_count": 37,
      "outputs": []
    },
    {
      "cell_type": "markdown",
      "source": [
        "Here we divided the list that we created before into lists of X_train, y_train, X_val, y_val, X_test, and y_test."
      ],
      "metadata": {
        "id": "VdUjADpaAcnu"
      }
    },
    {
      "cell_type": "code",
      "source": [
        "X_train = np.array(X_train)\n",
        "y_train = np.array(y_train)\n",
        "X_test = np.array(X_test)\n",
        "y_test = np.array(y_test)\n",
        "X_val = np.array(X_val)\n",
        "y_val = np.array(y_val)"
      ],
      "metadata": {
        "id": "XkeUgsgaWly3"
      },
      "execution_count": 38,
      "outputs": []
    },
    {
      "cell_type": "code",
      "source": [
        "X_train.shape"
      ],
      "metadata": {
        "colab": {
          "base_uri": "https://localhost:8080/"
        },
        "id": "h407VXSYXIMM",
        "outputId": "156a7d86-02bf-4409-99e6-cdb5befbbee1"
      },
      "execution_count": 39,
      "outputs": [
        {
          "output_type": "execute_result",
          "data": {
            "text/plain": [
              "(14979, 48, 48, 3)"
            ]
          },
          "metadata": {},
          "execution_count": 39
        }
      ]
    },
    {
      "cell_type": "code",
      "source": [
        "y_val"
      ],
      "metadata": {
        "id": "Q5pVEB4hNbOR",
        "colab": {
          "base_uri": "https://localhost:8080/"
        },
        "outputId": "bf6fe566-93f7-4c41-c8eb-c39076085464"
      },
      "execution_count": 40,
      "outputs": [
        {
          "output_type": "execute_result",
          "data": {
            "text/plain": [
              "array([0, 1, 1, ..., 1, 0, 0])"
            ]
          },
          "metadata": {},
          "execution_count": 40
        }
      ]
    },
    {
      "cell_type": "markdown",
      "source": [
        "Finally, we can save the numpy arrays using pickle."
      ],
      "metadata": {
        "id": "yz7EL1erAlgD"
      }
    },
    {
      "cell_type": "code",
      "source": [
        "import pickle\n",
        "pickle.dump(X_train, open('X_train.pkl', 'wb'))\n",
        "pickle.dump(y_train, open('y_train.pkl', 'wb'))\n",
        "pickle.dump(X_test, open('X_test.pkl', 'wb'))\n",
        "pickle.dump(y_test, open('y_test.pkl', 'wb'))\n",
        "pickle.dump(X_val , open('X_val.pkl', 'wb'))\n",
        "pickle.dump(y_val, open('y_val.pkl', 'wb'))"
      ],
      "metadata": {
        "id": "OOw4N5WRLy4l"
      },
      "execution_count": 41,
      "outputs": []
    },
    {
      "cell_type": "code",
      "source": [
        "# Sadece oosyaya doğru yazılıp yazılmadığını kontrol etmek içindir.\n",
        "X_train = pickle.load(open('X_train.pkl', 'rb'))\n",
        "y_train = pickle.load(open('y_train.pkl', 'rb'))"
      ],
      "metadata": {
        "id": "SOVAB-fyLyxz"
      },
      "execution_count": 42,
      "outputs": []
    },
    {
      "cell_type": "code",
      "source": [
        "y_train"
      ],
      "metadata": {
        "colab": {
          "base_uri": "https://localhost:8080/"
        },
        "id": "UhKFml39Lyri",
        "outputId": "cf1fcdec-6af5-4b06-fbb8-35cd9c2ae139"
      },
      "execution_count": 43,
      "outputs": [
        {
          "output_type": "execute_result",
          "data": {
            "text/plain": [
              "array([0, 0, 1, ..., 1, 1, 0])"
            ]
          },
          "metadata": {},
          "execution_count": 43
        }
      ]
    }
  ]
}
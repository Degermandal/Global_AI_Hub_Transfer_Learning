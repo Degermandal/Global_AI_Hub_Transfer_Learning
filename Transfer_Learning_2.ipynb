{
  "nbformat": 4,
  "nbformat_minor": 0,
  "metadata": {
    "colab": {
      "name": "Transfer_Learning_2.ipynb",
      "provenance": [],
      "collapsed_sections": []
    },
    "kernelspec": {
      "name": "python3",
      "display_name": "Python 3"
    },
    "language_info": {
      "name": "python"
    },
    "accelerator": "GPU",
    "gpuClass": "standard"
  },
  "cells": [
    {
      "cell_type": "code",
      "execution_count": 1,
      "metadata": {
        "colab": {
          "base_uri": "https://localhost:8080/"
        },
        "id": "w0mVcSAffH6F",
        "outputId": "90914fd5-1d74-4914-80fc-a56ed7a559c4"
      },
      "outputs": [
        {
          "output_type": "stream",
          "name": "stdout",
          "text": [
            "Mounted at /gdrive\n",
            "/gdrive\n"
          ]
        }
      ],
      "source": [
        "from google.colab import drive\n",
        "drive.mount('/gdrive')\n",
        "%cd /gdrive"
      ]
    },
    {
      "cell_type": "code",
      "source": [
        "%cd '/gdrive/My Drive/Global_AI_Hub'"
      ],
      "metadata": {
        "colab": {
          "base_uri": "https://localhost:8080/"
        },
        "id": "ODVl583XfVPT",
        "outputId": "11903cb1-f9e2-4c26-d10f-ef17ac842a8f"
      },
      "execution_count": 101,
      "outputs": [
        {
          "output_type": "stream",
          "name": "stdout",
          "text": [
            "/gdrive/My Drive/Global_AI_Hub\n"
          ]
        }
      ]
    },
    {
      "cell_type": "code",
      "source": [
        "import pandas as pd\n",
        "import numpy as np\n",
        "import seaborn as sns\n",
        "import matplotlib.pyplot as plt\n",
        "import warnings\n",
        "warnings.filterwarnings('ignore')\n",
        "import os\n",
        "import cv2\n",
        "import pickle\n",
        "\n",
        "from keras.preprocessing.image import ImageDataGenerator\n",
        "from keras.models import Sequential\n",
        "from keras.layers import Dense, Flatten"
      ],
      "metadata": {
        "id": "Oq4SIWhgfYTn"
      },
      "execution_count": 102,
      "outputs": []
    },
    {
      "cell_type": "code",
      "source": [
        "X_train = pickle.load(open('X_train.pkl', 'rb'))\n",
        "y_train = pickle.load(open('y_train.pkl', 'rb'))\n",
        "\n",
        "X_val = pickle.load(open('X_val.pkl', 'rb'))\n",
        "y_val = pickle.load(open('y_val.pkl', 'rb'))\n",
        "\n",
        "X_test = pickle.load(open('X_test.pkl', 'rb'))\n",
        "y_test = pickle.load(open('y_test.pkl', 'rb'))"
      ],
      "metadata": {
        "id": "SgRNG0SafjXu"
      },
      "execution_count": 104,
      "outputs": []
    },
    {
      "cell_type": "code",
      "source": [
        "y_train"
      ],
      "metadata": {
        "colab": {
          "base_uri": "https://localhost:8080/"
        },
        "id": "jhZpRcJNflOe",
        "outputId": "6c77bc73-635d-425d-c31f-e2bfcb019309"
      },
      "execution_count": 6,
      "outputs": [
        {
          "output_type": "execute_result",
          "data": {
            "text/plain": [
              "array([0, 0, 1, ..., 1, 1, 0])"
            ]
          },
          "metadata": {},
          "execution_count": 6
        }
      ]
    },
    {
      "cell_type": "code",
      "source": [
        "from keras.applications.vgg19 import VGG19"
      ],
      "metadata": {
        "id": "dC70Lw7FhMMm"
      },
      "execution_count": 105,
      "outputs": []
    },
    {
      "cell_type": "code",
      "source": [
        "# VGG19 görselleri 48x48 kabul etmektedir\n",
        "vgg = VGG19(include_top = False, weights = \"imagenet\", input_shape = (48,48,3))\n",
        "print(vgg.summary())"
      ],
      "metadata": {
        "colab": {
          "base_uri": "https://localhost:8080/"
        },
        "id": "2UkSer305g1u",
        "outputId": "62030599-f807-4e39-d4d2-0bba217937de"
      },
      "execution_count": 106,
      "outputs": [
        {
          "output_type": "stream",
          "name": "stdout",
          "text": [
            "Model: \"vgg19\"\n",
            "_________________________________________________________________\n",
            " Layer (type)                Output Shape              Param #   \n",
            "=================================================================\n",
            " input_3 (InputLayer)        [(None, 48, 48, 3)]       0         \n",
            "                                                                 \n",
            " block1_conv1 (Conv2D)       (None, 48, 48, 64)        1792      \n",
            "                                                                 \n",
            " block1_conv2 (Conv2D)       (None, 48, 48, 64)        36928     \n",
            "                                                                 \n",
            " block1_pool (MaxPooling2D)  (None, 24, 24, 64)        0         \n",
            "                                                                 \n",
            " block2_conv1 (Conv2D)       (None, 24, 24, 128)       73856     \n",
            "                                                                 \n",
            " block2_conv2 (Conv2D)       (None, 24, 24, 128)       147584    \n",
            "                                                                 \n",
            " block2_pool (MaxPooling2D)  (None, 12, 12, 128)       0         \n",
            "                                                                 \n",
            " block3_conv1 (Conv2D)       (None, 12, 12, 256)       295168    \n",
            "                                                                 \n",
            " block3_conv2 (Conv2D)       (None, 12, 12, 256)       590080    \n",
            "                                                                 \n",
            " block3_conv3 (Conv2D)       (None, 12, 12, 256)       590080    \n",
            "                                                                 \n",
            " block3_conv4 (Conv2D)       (None, 12, 12, 256)       590080    \n",
            "                                                                 \n",
            " block3_pool (MaxPooling2D)  (None, 6, 6, 256)         0         \n",
            "                                                                 \n",
            " block4_conv1 (Conv2D)       (None, 6, 6, 512)         1180160   \n",
            "                                                                 \n",
            " block4_conv2 (Conv2D)       (None, 6, 6, 512)         2359808   \n",
            "                                                                 \n",
            " block4_conv3 (Conv2D)       (None, 6, 6, 512)         2359808   \n",
            "                                                                 \n",
            " block4_conv4 (Conv2D)       (None, 6, 6, 512)         2359808   \n",
            "                                                                 \n",
            " block4_pool (MaxPooling2D)  (None, 3, 3, 512)         0         \n",
            "                                                                 \n",
            " block5_conv1 (Conv2D)       (None, 3, 3, 512)         2359808   \n",
            "                                                                 \n",
            " block5_conv2 (Conv2D)       (None, 3, 3, 512)         2359808   \n",
            "                                                                 \n",
            " block5_conv3 (Conv2D)       (None, 3, 3, 512)         2359808   \n",
            "                                                                 \n",
            " block5_conv4 (Conv2D)       (None, 3, 3, 512)         2359808   \n",
            "                                                                 \n",
            " block5_pool (MaxPooling2D)  (None, 1, 1, 512)         0         \n",
            "                                                                 \n",
            "=================================================================\n",
            "Total params: 20,024,384\n",
            "Trainable params: 20,024,384\n",
            "Non-trainable params: 0\n",
            "_________________________________________________________________\n",
            "None\n"
          ]
        }
      ]
    },
    {
      "cell_type": "code",
      "source": [
        "vgg_layer_list = vgg.layers\n",
        "model = Sequential()\n",
        "for layer in vgg_layer_list:\n",
        "    model.add(layer)\n",
        "for layer in model.layers:\n",
        "    # Burada False yapmamızın nedeni diğer katmanları eğitmeyecek olmamızdır.\n",
        "    layer.trainable = False\n",
        "# fully con layers\n",
        "model.add(Flatten())\n",
        "model.add(Dense(128))\n",
        "# 1 tane output beklentimiz var o yüzden değeri 1 ve binary olduğu için sigmoid kullanılmıştır\n",
        "model.add(Dense(1, activation= \"sigmoid\"))\n",
        "\n",
        "print(model.summary())"
      ],
      "metadata": {
        "colab": {
          "base_uri": "https://localhost:8080/"
        },
        "id": "wj0RB9fFbd40",
        "outputId": "aece8167-00c1-4679-e231-d65b5c113687"
      },
      "execution_count": 107,
      "outputs": [
        {
          "output_type": "stream",
          "name": "stdout",
          "text": [
            "Model: \"sequential_2\"\n",
            "_________________________________________________________________\n",
            " Layer (type)                Output Shape              Param #   \n",
            "=================================================================\n",
            " block1_conv1 (Conv2D)       (None, 48, 48, 64)        1792      \n",
            "                                                                 \n",
            " block1_conv2 (Conv2D)       (None, 48, 48, 64)        36928     \n",
            "                                                                 \n",
            " block1_pool (MaxPooling2D)  (None, 24, 24, 64)        0         \n",
            "                                                                 \n",
            " block2_conv1 (Conv2D)       (None, 24, 24, 128)       73856     \n",
            "                                                                 \n",
            " block2_conv2 (Conv2D)       (None, 24, 24, 128)       147584    \n",
            "                                                                 \n",
            " block2_pool (MaxPooling2D)  (None, 12, 12, 128)       0         \n",
            "                                                                 \n",
            " block3_conv1 (Conv2D)       (None, 12, 12, 256)       295168    \n",
            "                                                                 \n",
            " block3_conv2 (Conv2D)       (None, 12, 12, 256)       590080    \n",
            "                                                                 \n",
            " block3_conv3 (Conv2D)       (None, 12, 12, 256)       590080    \n",
            "                                                                 \n",
            " block3_conv4 (Conv2D)       (None, 12, 12, 256)       590080    \n",
            "                                                                 \n",
            " block3_pool (MaxPooling2D)  (None, 6, 6, 256)         0         \n",
            "                                                                 \n",
            " block4_conv1 (Conv2D)       (None, 6, 6, 512)         1180160   \n",
            "                                                                 \n",
            " block4_conv2 (Conv2D)       (None, 6, 6, 512)         2359808   \n",
            "                                                                 \n",
            " block4_conv3 (Conv2D)       (None, 6, 6, 512)         2359808   \n",
            "                                                                 \n",
            " block4_conv4 (Conv2D)       (None, 6, 6, 512)         2359808   \n",
            "                                                                 \n",
            " block4_pool (MaxPooling2D)  (None, 3, 3, 512)         0         \n",
            "                                                                 \n",
            " block5_conv1 (Conv2D)       (None, 3, 3, 512)         2359808   \n",
            "                                                                 \n",
            " block5_conv2 (Conv2D)       (None, 3, 3, 512)         2359808   \n",
            "                                                                 \n",
            " block5_conv3 (Conv2D)       (None, 3, 3, 512)         2359808   \n",
            "                                                                 \n",
            " block5_conv4 (Conv2D)       (None, 3, 3, 512)         2359808   \n",
            "                                                                 \n",
            " block5_pool (MaxPooling2D)  (None, 1, 1, 512)         0         \n",
            "                                                                 \n",
            " flatten_2 (Flatten)         (None, 512)               0         \n",
            "                                                                 \n",
            " dense_4 (Dense)             (None, 128)               65664     \n",
            "                                                                 \n",
            " dense_5 (Dense)             (None, 1)                 129       \n",
            "                                                                 \n",
            "=================================================================\n",
            "Total params: 20,090,177\n",
            "Trainable params: 65,793\n",
            "Non-trainable params: 20,024,384\n",
            "_________________________________________________________________\n",
            "None\n"
          ]
        }
      ]
    },
    {
      "cell_type": "code",
      "source": [
        "model.compile(loss = \"binary_crossentropy\",\n",
        "              optimizer = \"rmsprop\",\n",
        "              metrics = [\"accuracy\"])"
      ],
      "metadata": {
        "id": "VXSQ9a5xhRGW"
      },
      "execution_count": 108,
      "outputs": []
    },
    {
      "cell_type": "code",
      "source": [
        "# Aşağıdaki işlemler için shapei değiştirilmiştir\n",
        "y_train = y_train.reshape((-1,1))\n",
        "y_val = y_val.reshape((-1,1))"
      ],
      "metadata": {
        "id": "aCAKCngYu6WD"
      },
      "execution_count": 109,
      "outputs": []
    },
    {
      "cell_type": "code",
      "source": [
        "X_train = X_train.reshape(-1, 48, 48, 3)\n",
        "X_val = X_val.reshape(-1, 48, 48, 3)"
      ],
      "metadata": {
        "id": "GPUM-DeSvrZR"
      },
      "execution_count": 110,
      "outputs": []
    },
    {
      "cell_type": "code",
      "source": [
        "X_train.shape, y_train.shape"
      ],
      "metadata": {
        "colab": {
          "base_uri": "https://localhost:8080/"
        },
        "id": "3AU8lKAhvlq3",
        "outputId": "e2c316a0-6ab0-472d-c0f3-5f2ce520eeab"
      },
      "execution_count": 111,
      "outputs": [
        {
          "output_type": "execute_result",
          "data": {
            "text/plain": [
              "((14979, 48, 48, 3), (14979, 1))"
            ]
          },
          "metadata": {},
          "execution_count": 111
        }
      ]
    },
    {
      "cell_type": "code",
      "source": [
        "train_datagen = ImageDataGenerator(rescale=1./255, \n",
        "                                   zoom_range=0.3, \n",
        "                                   rotation_range=50,\n",
        "                                   width_shift_range=0.2, \n",
        "                                   height_shift_range=0.2, \n",
        "                                   shear_range=0.2, \n",
        "                                   horizontal_flip=True, \n",
        "                                   fill_mode='nearest')\n",
        "validation_datagen = ImageDataGenerator(rescale=1./255)\n",
        "train_generator = train_datagen.flow(X_train, y_train, batch_size=30)\n",
        "validation_generator = validation_datagen.flow(X_val, y_val, batch_size=20)\n",
        "test_generator = validation_datagen.flow(X_test, y_test, batch_size=20)"
      ],
      "metadata": {
        "id": "Gq4bv2Nxqrkk"
      },
      "execution_count": 113,
      "outputs": []
    },
    {
      "cell_type": "code",
      "source": [
        "hist = model.fit_generator(train_generator, steps_per_epoch=100, epochs= 100, \n",
        "                           validation_data=validation_generator, validation_steps= 50)\n",
        "   "
      ],
      "metadata": {
        "colab": {
          "base_uri": "https://localhost:8080/"
        },
        "id": "eEK9w10ggh9M",
        "outputId": "239f7c8d-5129-4bfe-a2d9-cedaed640579"
      },
      "execution_count": 115,
      "outputs": [
        {
          "output_type": "stream",
          "name": "stdout",
          "text": [
            "Epoch 1/100\n",
            "100/100 [==============================] - 4s 41ms/step - loss: 0.6704 - accuracy: 0.6107 - val_loss: 0.5576 - val_accuracy: 0.7040\n",
            "Epoch 2/100\n",
            "100/100 [==============================] - 4s 41ms/step - loss: 0.6510 - accuracy: 0.6373 - val_loss: 0.5587 - val_accuracy: 0.6980\n",
            "Epoch 3/100\n",
            "100/100 [==============================] - 4s 40ms/step - loss: 0.6376 - accuracy: 0.6391 - val_loss: 0.5998 - val_accuracy: 0.6610\n",
            "Epoch 4/100\n",
            "100/100 [==============================] - 4s 41ms/step - loss: 0.6400 - accuracy: 0.6459 - val_loss: 0.5713 - val_accuracy: 0.7040\n",
            "Epoch 5/100\n",
            "100/100 [==============================] - 6s 60ms/step - loss: 0.6172 - accuracy: 0.6677 - val_loss: 0.5684 - val_accuracy: 0.7030\n",
            "Epoch 6/100\n",
            "100/100 [==============================] - 4s 41ms/step - loss: 0.6207 - accuracy: 0.6423 - val_loss: 0.5841 - val_accuracy: 0.6990\n",
            "Epoch 7/100\n",
            "100/100 [==============================] - 4s 40ms/step - loss: 0.6211 - accuracy: 0.6490 - val_loss: 0.5904 - val_accuracy: 0.6830\n",
            "Epoch 8/100\n",
            "100/100 [==============================] - 4s 40ms/step - loss: 0.6077 - accuracy: 0.6567 - val_loss: 0.6202 - val_accuracy: 0.6340\n",
            "Epoch 9/100\n",
            "100/100 [==============================] - 4s 40ms/step - loss: 0.6127 - accuracy: 0.6687 - val_loss: 0.5657 - val_accuracy: 0.7140\n",
            "Epoch 10/100\n",
            "100/100 [==============================] - 4s 40ms/step - loss: 0.6171 - accuracy: 0.6650 - val_loss: 0.6316 - val_accuracy: 0.6580\n",
            "Epoch 11/100\n",
            "100/100 [==============================] - 4s 41ms/step - loss: 0.6124 - accuracy: 0.6547 - val_loss: 0.5838 - val_accuracy: 0.6690\n",
            "Epoch 12/100\n",
            "100/100 [==============================] - 4s 41ms/step - loss: 0.5891 - accuracy: 0.6880 - val_loss: 0.5548 - val_accuracy: 0.7090\n",
            "Epoch 13/100\n",
            "100/100 [==============================] - 4s 41ms/step - loss: 0.6023 - accuracy: 0.6720 - val_loss: 0.5394 - val_accuracy: 0.7300\n",
            "Epoch 14/100\n",
            "100/100 [==============================] - 4s 41ms/step - loss: 0.6091 - accuracy: 0.6636 - val_loss: 0.5506 - val_accuracy: 0.7280\n",
            "Epoch 15/100\n",
            "100/100 [==============================] - 4s 40ms/step - loss: 0.6126 - accuracy: 0.6623 - val_loss: 0.5616 - val_accuracy: 0.7140\n",
            "Epoch 16/100\n",
            "100/100 [==============================] - 6s 59ms/step - loss: 0.5834 - accuracy: 0.6837 - val_loss: 0.5709 - val_accuracy: 0.6920\n",
            "Epoch 17/100\n",
            "100/100 [==============================] - 4s 41ms/step - loss: 0.6041 - accuracy: 0.6740 - val_loss: 0.5289 - val_accuracy: 0.7610\n",
            "Epoch 18/100\n",
            "100/100 [==============================] - 4s 41ms/step - loss: 0.5948 - accuracy: 0.6710 - val_loss: 0.5348 - val_accuracy: 0.7230\n",
            "Epoch 19/100\n",
            "100/100 [==============================] - 4s 40ms/step - loss: 0.6013 - accuracy: 0.6741 - val_loss: 0.5677 - val_accuracy: 0.6920\n",
            "Epoch 20/100\n",
            "100/100 [==============================] - 4s 41ms/step - loss: 0.5852 - accuracy: 0.6917 - val_loss: 0.5896 - val_accuracy: 0.6990\n",
            "Epoch 21/100\n",
            "100/100 [==============================] - 4s 40ms/step - loss: 0.6088 - accuracy: 0.6603 - val_loss: 0.5420 - val_accuracy: 0.7370\n",
            "Epoch 22/100\n",
            "100/100 [==============================] - 4s 41ms/step - loss: 0.6021 - accuracy: 0.6750 - val_loss: 0.5411 - val_accuracy: 0.7420\n",
            "Epoch 23/100\n",
            "100/100 [==============================] - 4s 41ms/step - loss: 0.5954 - accuracy: 0.6757 - val_loss: 0.6091 - val_accuracy: 0.6660\n",
            "Epoch 24/100\n",
            "100/100 [==============================] - 4s 40ms/step - loss: 0.6020 - accuracy: 0.6627 - val_loss: 0.5386 - val_accuracy: 0.7330\n",
            "Epoch 25/100\n",
            "100/100 [==============================] - 4s 41ms/step - loss: 0.6050 - accuracy: 0.6760 - val_loss: 0.5515 - val_accuracy: 0.7230\n",
            "Epoch 26/100\n",
            "100/100 [==============================] - 4s 40ms/step - loss: 0.5899 - accuracy: 0.6933 - val_loss: 0.5262 - val_accuracy: 0.7690\n",
            "Epoch 27/100\n",
            "100/100 [==============================] - 4s 40ms/step - loss: 0.6035 - accuracy: 0.6733 - val_loss: 0.5640 - val_accuracy: 0.7050\n",
            "Epoch 28/100\n",
            "100/100 [==============================] - 4s 40ms/step - loss: 0.6002 - accuracy: 0.6797 - val_loss: 0.5681 - val_accuracy: 0.6830\n",
            "Epoch 29/100\n",
            "100/100 [==============================] - 4s 40ms/step - loss: 0.5854 - accuracy: 0.6895 - val_loss: 0.5641 - val_accuracy: 0.7120\n",
            "Epoch 30/100\n",
            "100/100 [==============================] - 5s 46ms/step - loss: 0.5942 - accuracy: 0.6835 - val_loss: 0.5574 - val_accuracy: 0.7340\n",
            "Epoch 31/100\n",
            "100/100 [==============================] - 4s 40ms/step - loss: 0.5898 - accuracy: 0.6903 - val_loss: 0.5617 - val_accuracy: 0.6980\n",
            "Epoch 32/100\n",
            "100/100 [==============================] - 4s 41ms/step - loss: 0.5876 - accuracy: 0.6910 - val_loss: 0.5929 - val_accuracy: 0.6660\n",
            "Epoch 33/100\n",
            "100/100 [==============================] - 9s 91ms/step - loss: 0.6052 - accuracy: 0.6727 - val_loss: 0.5121 - val_accuracy: 0.7750\n",
            "Epoch 34/100\n",
            "100/100 [==============================] - 4s 40ms/step - loss: 0.5908 - accuracy: 0.6850 - val_loss: 0.5620 - val_accuracy: 0.7080\n",
            "Epoch 35/100\n",
            "100/100 [==============================] - 4s 40ms/step - loss: 0.5995 - accuracy: 0.6817 - val_loss: 0.5636 - val_accuracy: 0.7230\n",
            "Epoch 36/100\n",
            "100/100 [==============================] - 4s 40ms/step - loss: 0.5959 - accuracy: 0.6787 - val_loss: 0.5420 - val_accuracy: 0.7360\n",
            "Epoch 37/100\n",
            "100/100 [==============================] - 4s 40ms/step - loss: 0.5919 - accuracy: 0.6902 - val_loss: 0.5357 - val_accuracy: 0.7460\n",
            "Epoch 38/100\n",
            "100/100 [==============================] - 4s 41ms/step - loss: 0.5849 - accuracy: 0.6897 - val_loss: 0.6163 - val_accuracy: 0.6680\n",
            "Epoch 39/100\n",
            "100/100 [==============================] - 4s 40ms/step - loss: 0.5954 - accuracy: 0.6790 - val_loss: 0.5577 - val_accuracy: 0.7090\n",
            "Epoch 40/100\n",
            "100/100 [==============================] - 5s 46ms/step - loss: 0.5987 - accuracy: 0.6840 - val_loss: 0.5573 - val_accuracy: 0.7360\n",
            "Epoch 41/100\n",
            "100/100 [==============================] - 5s 47ms/step - loss: 0.5935 - accuracy: 0.6910 - val_loss: 0.5325 - val_accuracy: 0.7550\n",
            "Epoch 42/100\n",
            "100/100 [==============================] - 4s 40ms/step - loss: 0.5955 - accuracy: 0.6850 - val_loss: 0.5256 - val_accuracy: 0.7520\n",
            "Epoch 43/100\n",
            "100/100 [==============================] - 4s 41ms/step - loss: 0.5943 - accuracy: 0.6667 - val_loss: 0.5478 - val_accuracy: 0.7390\n",
            "Epoch 44/100\n",
            "100/100 [==============================] - 4s 40ms/step - loss: 0.5838 - accuracy: 0.6843 - val_loss: 0.5387 - val_accuracy: 0.7410\n",
            "Epoch 45/100\n",
            "100/100 [==============================] - 4s 40ms/step - loss: 0.5955 - accuracy: 0.6794 - val_loss: 0.5465 - val_accuracy: 0.7420\n",
            "Epoch 46/100\n",
            "100/100 [==============================] - 4s 40ms/step - loss: 0.5942 - accuracy: 0.6777 - val_loss: 0.5226 - val_accuracy: 0.7420\n",
            "Epoch 47/100\n",
            "100/100 [==============================] - 4s 40ms/step - loss: 0.5772 - accuracy: 0.6930 - val_loss: 0.5652 - val_accuracy: 0.7000\n",
            "Epoch 48/100\n",
            "100/100 [==============================] - 4s 40ms/step - loss: 0.5984 - accuracy: 0.6743 - val_loss: 0.5462 - val_accuracy: 0.7310\n",
            "Epoch 49/100\n",
            "100/100 [==============================] - 4s 40ms/step - loss: 0.5988 - accuracy: 0.6764 - val_loss: 0.5485 - val_accuracy: 0.7310\n",
            "Epoch 50/100\n",
            "100/100 [==============================] - 4s 40ms/step - loss: 0.5870 - accuracy: 0.6850 - val_loss: 0.5969 - val_accuracy: 0.6720\n",
            "Epoch 51/100\n",
            "100/100 [==============================] - 4s 41ms/step - loss: 0.5944 - accuracy: 0.6870 - val_loss: 0.5884 - val_accuracy: 0.7060\n",
            "Epoch 52/100\n",
            "100/100 [==============================] - 5s 47ms/step - loss: 0.5859 - accuracy: 0.6867 - val_loss: 0.5477 - val_accuracy: 0.7180\n",
            "Epoch 53/100\n",
            "100/100 [==============================] - 4s 40ms/step - loss: 0.5917 - accuracy: 0.6870 - val_loss: 0.5497 - val_accuracy: 0.7350\n",
            "Epoch 54/100\n",
            "100/100 [==============================] - 4s 41ms/step - loss: 0.5949 - accuracy: 0.6870 - val_loss: 0.5884 - val_accuracy: 0.6900\n",
            "Epoch 55/100\n",
            "100/100 [==============================] - 4s 41ms/step - loss: 0.5721 - accuracy: 0.6983 - val_loss: 0.5226 - val_accuracy: 0.7540\n",
            "Epoch 56/100\n",
            "100/100 [==============================] - 4s 41ms/step - loss: 0.5838 - accuracy: 0.6907 - val_loss: 0.5603 - val_accuracy: 0.7160\n",
            "Epoch 57/100\n",
            "100/100 [==============================] - 4s 42ms/step - loss: 0.5905 - accuracy: 0.6860 - val_loss: 0.5683 - val_accuracy: 0.7130\n",
            "Epoch 58/100\n",
            "100/100 [==============================] - 4s 42ms/step - loss: 0.5850 - accuracy: 0.6827 - val_loss: 0.5651 - val_accuracy: 0.7180\n",
            "Epoch 59/100\n",
            "100/100 [==============================] - 5s 47ms/step - loss: 0.5790 - accuracy: 0.6923 - val_loss: 0.5478 - val_accuracy: 0.7370\n",
            "Epoch 60/100\n",
            "100/100 [==============================] - 5s 46ms/step - loss: 0.5878 - accuracy: 0.6783 - val_loss: 0.5248 - val_accuracy: 0.7620\n",
            "Epoch 61/100\n",
            "100/100 [==============================] - 4s 42ms/step - loss: 0.5904 - accuracy: 0.6871 - val_loss: 0.5826 - val_accuracy: 0.6960\n",
            "Epoch 62/100\n",
            "100/100 [==============================] - 4s 41ms/step - loss: 0.6001 - accuracy: 0.6747 - val_loss: 0.5783 - val_accuracy: 0.7070\n",
            "Epoch 63/100\n",
            "100/100 [==============================] - 4s 42ms/step - loss: 0.5848 - accuracy: 0.6937 - val_loss: 0.5280 - val_accuracy: 0.7330\n",
            "Epoch 64/100\n",
            "100/100 [==============================] - 4s 41ms/step - loss: 0.5788 - accuracy: 0.6953 - val_loss: 0.5606 - val_accuracy: 0.6940\n",
            "Epoch 65/100\n",
            "100/100 [==============================] - 4s 41ms/step - loss: 0.5762 - accuracy: 0.7023 - val_loss: 0.5528 - val_accuracy: 0.7120\n",
            "Epoch 66/100\n",
            "100/100 [==============================] - 4s 40ms/step - loss: 0.5925 - accuracy: 0.6750 - val_loss: 0.5936 - val_accuracy: 0.6960\n",
            "Epoch 67/100\n",
            "100/100 [==============================] - 4s 42ms/step - loss: 0.5838 - accuracy: 0.6915 - val_loss: 0.5688 - val_accuracy: 0.7010\n",
            "Epoch 68/100\n",
            "100/100 [==============================] - 5s 48ms/step - loss: 0.5932 - accuracy: 0.6893 - val_loss: 0.5308 - val_accuracy: 0.7400\n",
            "Epoch 69/100\n",
            "100/100 [==============================] - 4s 41ms/step - loss: 0.5875 - accuracy: 0.6898 - val_loss: 0.5404 - val_accuracy: 0.7460\n",
            "Epoch 70/100\n",
            "100/100 [==============================] - 4s 41ms/step - loss: 0.5882 - accuracy: 0.6803 - val_loss: 0.5695 - val_accuracy: 0.7170\n",
            "Epoch 71/100\n",
            "100/100 [==============================] - 4s 42ms/step - loss: 0.5844 - accuracy: 0.6933 - val_loss: 0.5728 - val_accuracy: 0.7290\n",
            "Epoch 72/100\n",
            "100/100 [==============================] - 4s 43ms/step - loss: 0.5915 - accuracy: 0.6813 - val_loss: 0.5518 - val_accuracy: 0.7310\n",
            "Epoch 73/100\n",
            "100/100 [==============================] - 4s 41ms/step - loss: 0.5890 - accuracy: 0.6900 - val_loss: 0.5764 - val_accuracy: 0.6890\n",
            "Epoch 74/100\n",
            "100/100 [==============================] - 4s 41ms/step - loss: 0.5938 - accuracy: 0.6733 - val_loss: 0.5371 - val_accuracy: 0.7350\n",
            "Epoch 75/100\n",
            "100/100 [==============================] - 4s 41ms/step - loss: 0.5766 - accuracy: 0.6877 - val_loss: 0.5287 - val_accuracy: 0.7590\n",
            "Epoch 76/100\n",
            "100/100 [==============================] - 4s 41ms/step - loss: 0.5813 - accuracy: 0.6920 - val_loss: 0.5445 - val_accuracy: 0.7260\n",
            "Epoch 77/100\n",
            "100/100 [==============================] - 4s 41ms/step - loss: 0.5967 - accuracy: 0.6813 - val_loss: 0.5275 - val_accuracy: 0.7500\n",
            "Epoch 78/100\n",
            "100/100 [==============================] - 4s 42ms/step - loss: 0.5844 - accuracy: 0.6850 - val_loss: 0.5407 - val_accuracy: 0.7460\n",
            "Epoch 79/100\n",
            "100/100 [==============================] - 4s 41ms/step - loss: 0.5826 - accuracy: 0.6963 - val_loss: 0.5639 - val_accuracy: 0.7260\n",
            "Epoch 80/100\n",
            "100/100 [==============================] - 4s 41ms/step - loss: 0.5900 - accuracy: 0.6967 - val_loss: 0.5812 - val_accuracy: 0.7130\n",
            "Epoch 81/100\n",
            "100/100 [==============================] - 4s 41ms/step - loss: 0.5945 - accuracy: 0.6773 - val_loss: 0.5689 - val_accuracy: 0.7060\n",
            "Epoch 82/100\n",
            "100/100 [==============================] - 4s 41ms/step - loss: 0.5876 - accuracy: 0.6811 - val_loss: 0.5340 - val_accuracy: 0.7390\n",
            "Epoch 83/100\n",
            "100/100 [==============================] - 4s 41ms/step - loss: 0.5744 - accuracy: 0.7000 - val_loss: 0.5677 - val_accuracy: 0.7090\n",
            "Epoch 84/100\n",
            "100/100 [==============================] - 4s 41ms/step - loss: 0.5914 - accuracy: 0.6823 - val_loss: 0.5573 - val_accuracy: 0.7200\n",
            "Epoch 85/100\n",
            "100/100 [==============================] - 4s 41ms/step - loss: 0.5905 - accuracy: 0.6863 - val_loss: 0.5340 - val_accuracy: 0.7320\n",
            "Epoch 86/100\n",
            "100/100 [==============================] - 4s 41ms/step - loss: 0.5996 - accuracy: 0.6724 - val_loss: 0.5722 - val_accuracy: 0.7000\n",
            "Epoch 87/100\n",
            "100/100 [==============================] - 4s 42ms/step - loss: 0.5903 - accuracy: 0.6841 - val_loss: 0.5662 - val_accuracy: 0.7080\n",
            "Epoch 88/100\n",
            "100/100 [==============================] - 6s 56ms/step - loss: 0.5793 - accuracy: 0.6923 - val_loss: 0.5464 - val_accuracy: 0.7320\n",
            "Epoch 89/100\n",
            "100/100 [==============================] - 4s 42ms/step - loss: 0.5970 - accuracy: 0.6750 - val_loss: 0.5302 - val_accuracy: 0.7530\n",
            "Epoch 90/100\n",
            "100/100 [==============================] - 4s 42ms/step - loss: 0.5913 - accuracy: 0.6883 - val_loss: 0.5677 - val_accuracy: 0.7100\n",
            "Epoch 91/100\n",
            "100/100 [==============================] - 4s 42ms/step - loss: 0.5770 - accuracy: 0.6950 - val_loss: 0.5299 - val_accuracy: 0.7230\n",
            "Epoch 92/100\n",
            "100/100 [==============================] - 4s 40ms/step - loss: 0.6029 - accuracy: 0.6740 - val_loss: 0.5393 - val_accuracy: 0.7360\n",
            "Epoch 93/100\n",
            "100/100 [==============================] - 4s 40ms/step - loss: 0.5834 - accuracy: 0.6943 - val_loss: 0.5361 - val_accuracy: 0.7430\n",
            "Epoch 94/100\n",
            "100/100 [==============================] - 4s 41ms/step - loss: 0.5874 - accuracy: 0.6967 - val_loss: 0.5572 - val_accuracy: 0.7160\n",
            "Epoch 95/100\n",
            "100/100 [==============================] - 4s 41ms/step - loss: 0.5917 - accuracy: 0.6883 - val_loss: 0.5364 - val_accuracy: 0.7380\n",
            "Epoch 96/100\n",
            "100/100 [==============================] - 4s 42ms/step - loss: 0.5867 - accuracy: 0.6830 - val_loss: 0.5495 - val_accuracy: 0.7260\n",
            "Epoch 97/100\n",
            "100/100 [==============================] - 4s 41ms/step - loss: 0.5939 - accuracy: 0.6753 - val_loss: 0.5514 - val_accuracy: 0.7240\n",
            "Epoch 98/100\n",
            "100/100 [==============================] - 4s 42ms/step - loss: 0.5906 - accuracy: 0.6810 - val_loss: 0.5378 - val_accuracy: 0.7240\n",
            "Epoch 99/100\n",
            "100/100 [==============================] - 4s 40ms/step - loss: 0.5914 - accuracy: 0.6771 - val_loss: 0.5552 - val_accuracy: 0.7350\n",
            "Epoch 100/100\n",
            "100/100 [==============================] - 4s 41ms/step - loss: 0.5973 - accuracy: 0.6860 - val_loss: 0.5394 - val_accuracy: 0.7260\n"
          ]
        }
      ]
    },
    {
      "cell_type": "code",
      "source": [
        "model.save_weights(\"transfer_lear_vgg16.h5\")"
      ],
      "metadata": {
        "id": "vMXjvgU-jDtE"
      },
      "execution_count": 116,
      "outputs": []
    },
    {
      "cell_type": "code",
      "source": [
        "# evaluation\n",
        "print(hist.history.keys())\n",
        "plt.plot(hist.history[\"loss\"],label = \"training loss\")\n",
        "plt.plot(hist.history[\"val_loss\"],label = \"validation loss\")\n",
        "plt.legend()\n",
        "plt.show()\n",
        "plt.figure()\n"
      ],
      "metadata": {
        "colab": {
          "base_uri": "https://localhost:8080/",
          "height": 319
        },
        "id": "XjdvwT6Cgh55",
        "outputId": "be77d3e5-fb7b-4d9b-b4f1-4b945698fa07"
      },
      "execution_count": 117,
      "outputs": [
        {
          "output_type": "stream",
          "name": "stdout",
          "text": [
            "dict_keys(['loss', 'accuracy', 'val_loss', 'val_accuracy'])\n"
          ]
        },
        {
          "output_type": "display_data",
          "data": {
            "text/plain": [
              "<Figure size 432x288 with 1 Axes>"
            ],
            "image/png": "[encoded data removed]"
          },
          "metadata": {
            "needs_background": "light"
          }
        },
        {
          "output_type": "execute_result",
          "data": {
            "text/plain": [
              "<Figure size 432x288 with 0 Axes>"
            ]
          },
          "metadata": {},
          "execution_count": 117
        },
        {
          "output_type": "display_data",
          "data": {
            "text/plain": [
              "<Figure size 432x288 with 0 Axes>"
            ]
          },
          "metadata": {}
        }
      ]
    },
    {
      "cell_type": "code",
      "source": [
        "plt.plot(hist.history[\"accuracy\"],label = \"training acc\")\n",
        "plt.plot(hist.history[\"val_accuracy\"],label = \"validation acc\")\n",
        "plt.legend()\n",
        "plt.show()"
      ],
      "metadata": {
        "colab": {
          "base_uri": "https://localhost:8080/",
          "height": 265
        },
        "id": "ZzWgx73lgh2U",
        "outputId": "d5ea0ab4-ab8f-4dfe-998f-86eb08e7eb40"
      },
      "execution_count": 118,
      "outputs": [
        {
          "output_type": "display_data",
          "data": {
            "text/plain": [
              "<Figure size 432x288 with 1 Axes>"
            ],
            "image/png": "[encoded data removed]"
          },
          "metadata": {
            "needs_background": "light"
          }
        }
      ]
    },
    {
      "cell_type": "code",
      "source": [
        "# save history\n",
        "import json, codecs\n",
        "with open(\"model_history.json\",\"w\") as f:\n",
        "    json.dump(hist.history,f)"
      ],
      "metadata": {
        "id": "vkjhEp7g2B86"
      },
      "execution_count": 119,
      "outputs": []
    },
    {
      "cell_type": "code",
      "source": [
        "# load history\n",
        "with codecs.open(\"model_history.json\",\"r\",encoding = \"utf-8\") as f:\n",
        "    m_history = json.loads(f.read())"
      ],
      "metadata": {
        "id": "gQnb3i_g2Axs"
      },
      "execution_count": 120,
      "outputs": []
    },
    {
      "cell_type": "code",
      "source": [
        "model.metrics_names"
      ],
      "metadata": {
        "colab": {
          "base_uri": "https://localhost:8080/"
        },
        "id": "RouwnDv506XE",
        "outputId": "918d8f5f-83d3-4e4e-e842-a0a786445748"
      },
      "execution_count": 121,
      "outputs": [
        {
          "output_type": "execute_result",
          "data": {
            "text/plain": [
              "['loss', 'accuracy']"
            ]
          },
          "metadata": {},
          "execution_count": 121
        }
      ]
    },
    {
      "cell_type": "code",
      "source": [
        "results = model.evaluate(X_test, y_test)"
      ],
      "metadata": {
        "colab": {
          "base_uri": "https://localhost:8080/"
        },
        "id": "DxgIbvrj0989",
        "outputId": "f2c30b22-63fc-4d45-bedd-911da1ebfb60"
      },
      "execution_count": 122,
      "outputs": [
        {
          "output_type": "stream",
          "name": "stdout",
          "text": [
            "157/157 [==============================] - 3s 17ms/step - loss: 15.4381 - accuracy: 0.6635\n"
          ]
        }
      ]
    },
    {
      "cell_type": "code",
      "source": [
        "print(\"Test Loss: {:.2f}\".format(results[0]))\n",
        "print(\"Test Accuracy: {:.2f}\".format(results[1] * 100))"
      ],
      "metadata": {
        "colab": {
          "base_uri": "https://localhost:8080/"
        },
        "id": "j3aWaDex1Tgy",
        "outputId": "25877ef9-dd6a-4c6e-8d29-d73d1fccbcef"
      },
      "execution_count": 123,
      "outputs": [
        {
          "output_type": "stream",
          "name": "stdout",
          "text": [
            "Test Loss: 15.44\n",
            "Test Accuracy: 66.35\n"
          ]
        }
      ]
    },
    {
      "cell_type": "code",
      "source": [
        "X_test = X_test/255\n",
        "predict = model.predict(X_test)\n",
        "predict = np.round(predict)"
      ],
      "metadata": {
        "id": "B4aA9vydyM9C"
      },
      "execution_count": 124,
      "outputs": []
    },
    {
      "cell_type": "code",
      "source": [
        "y_test[660], predict[660]"
      ],
      "metadata": {
        "colab": {
          "base_uri": "https://localhost:8080/"
        },
        "id": "N5us7qdhyNp9",
        "outputId": "feb87579-b4db-46f7-c071-cc8bac748ca8"
      },
      "execution_count": 125,
      "outputs": [
        {
          "output_type": "execute_result",
          "data": {
            "text/plain": [
              "(0, array([0.], dtype=float32))"
            ]
          },
          "metadata": {},
          "execution_count": 125
        }
      ]
    },
    {
      "cell_type": "code",
      "source": [
        "y_test = y_test.reshape((-1,1))"
      ],
      "metadata": {
        "id": "vi3rLgCVwULt"
      },
      "execution_count": 127,
      "outputs": []
    },
    {
      "cell_type": "code",
      "source": [
        "y_test.shape, predict.shape"
      ],
      "metadata": {
        "colab": {
          "base_uri": "https://localhost:8080/"
        },
        "id": "QZb1G84lx0hh",
        "outputId": "b2d2c6ae-1283-490b-f504-0a89dfaf4284"
      },
      "execution_count": 128,
      "outputs": [
        {
          "output_type": "execute_result",
          "data": {
            "text/plain": [
              "((4993, 1), (4993, 1))"
            ]
          },
          "metadata": {},
          "execution_count": 128
        }
      ]
    },
    {
      "cell_type": "code",
      "source": [
        "y_test[660], predict[660]"
      ],
      "metadata": {
        "colab": {
          "base_uri": "https://localhost:8080/"
        },
        "id": "Z3jfMpLUyCzY",
        "outputId": "b7d6dba3-63f0-4f88-89e9-8856be134167"
      },
      "execution_count": 130,
      "outputs": [
        {
          "output_type": "execute_result",
          "data": {
            "text/plain": [
              "(array([0]), array([0.], dtype=float32))"
            ]
          },
          "metadata": {},
          "execution_count": 130
        }
      ]
    },
    {
      "cell_type": "code",
      "source": [
        "from sklearn.metrics import confusion_matrix, classification_report\n",
        "\n",
        "report = classification_report(y_test, predict, target_names=['0', '1'])\n",
        "conf_mat = confusion_matrix(y_test, predict)\n",
        "\n",
        "print(report)\n",
        "sns.heatmap(conf_mat, annot=True, fmt='d', cmap='YlGnBu')\n",
        "plt.show()"
      ],
      "metadata": {
        "colab": {
          "base_uri": "https://localhost:8080/",
          "height": 428
        },
        "id": "pJaEOk99gYL2",
        "outputId": "27eff865-cc5c-496a-e6ea-31a062c11b7d"
      },
      "execution_count": 131,
      "outputs": [
        {
          "output_type": "stream",
          "name": "stdout",
          "text": [
            "              precision    recall  f1-score   support\n",
            "\n",
            "           0       0.78      0.61      0.69      2483\n",
            "           1       0.68      0.83      0.75      2510\n",
            "\n",
            "    accuracy                           0.72      4993\n",
            "   macro avg       0.73      0.72      0.72      4993\n",
            "weighted avg       0.73      0.72      0.72      4993\n",
            "\n"
          ]
        },
        {
          "output_type": "display_data",
          "data": {
            "text/plain": [
              "<Figure size 432x288 with 2 Axes>"
            ],
            "image/png": "[encoded data removed]"
          },
          "metadata": {
            "needs_background": "light"
          }
        }
      ]
    }
  ]
}